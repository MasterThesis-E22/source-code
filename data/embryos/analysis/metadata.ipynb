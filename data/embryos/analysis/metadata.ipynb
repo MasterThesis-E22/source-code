{
 "cells": [
  {
   "cell_type": "markdown",
   "metadata": {
    "collapsed": false,
    "pycharm": {
     "name": "#%% md\n"
    }
   },
   "source": [
    "# Imports"
   ]
  },
  {
   "cell_type": "code",
   "execution_count": null,
   "outputs": [],
   "source": [
    "import os.path\n",
    "\n",
    "import pandas as pd\n",
    "import numpy as np\n",
    "import matplotlib.pyplot as plt\n",
    "from operator import itemgetter"
   ],
   "metadata": {
    "collapsed": false,
    "pycharm": {
     "name": "#%%\n"
    }
   }
  },
  {
   "cell_type": "markdown",
   "source": [
    "# Configs"
   ],
   "metadata": {
    "collapsed": false,
    "pycharm": {
     "name": "#%% md\n"
    }
   }
  },
  {
   "cell_type": "code",
   "execution_count": null,
   "outputs": [],
   "source": [
    "data_root = '/mnt/data/mlr_ahj_datasets/vitrolife/dataset/'\n",
    "metadata_file_path = os.path.join(data_root, \"metadata.csv\")"
   ],
   "metadata": {
    "collapsed": false,
    "pycharm": {
     "name": "#%%\n"
    }
   }
  },
  {
   "cell_type": "markdown",
   "source": [
    "# Load"
   ],
   "metadata": {
    "collapsed": false,
    "pycharm": {
     "name": "#%% md\n"
    }
   }
  },
  {
   "cell_type": "code",
   "execution_count": null,
   "outputs": [],
   "source": [
    "df = pd.read_csv(metadata_file_path, index_col='SampleID')\n",
    "df.head(), df.info()\n"
   ],
   "metadata": {
    "collapsed": false,
    "pycharm": {
     "name": "#%%\n"
    }
   }
  },
  {
   "cell_type": "markdown",
   "source": [
    "# Analysis"
   ],
   "metadata": {
    "collapsed": false,
    "pycharm": {
     "name": "#%% md\n"
    }
   }
  },
  {
   "cell_type": "markdown",
   "source": [
    "## General"
   ],
   "metadata": {
    "collapsed": false,
    "pycharm": {
     "name": "#%% md\n"
    }
   }
  },
  {
   "cell_type": "code",
   "execution_count": null,
   "outputs": [],
   "source": [
    "df.describe()"
   ],
   "metadata": {
    "collapsed": false,
    "pycharm": {
     "name": "#%%\n"
    }
   }
  },
  {
   "cell_type": "code",
   "execution_count": null,
   "outputs": [],
   "source": [
    "df['LabID'].value_counts()"
   ],
   "metadata": {
    "collapsed": false,
    "pycharm": {
     "name": "#%%\n"
    }
   }
  },
  {
   "cell_type": "code",
   "execution_count": null,
   "outputs": [],
   "source": [
    "df.isnull().sum()"
   ],
   "metadata": {
    "collapsed": false,
    "pycharm": {
     "name": "#%%\n"
    }
   }
  },
  {
   "cell_type": "markdown",
   "source": [
    "## Visualization"
   ],
   "metadata": {
    "collapsed": false,
    "pycharm": {
     "name": "#%% md\n"
    }
   }
  },
  {
   "cell_type": "markdown",
   "source": [
    "### LabID distribution"
   ],
   "metadata": {
    "collapsed": false,
    "pycharm": {
     "name": "#%% md\n"
    }
   }
  },
  {
   "cell_type": "code",
   "execution_count": null,
   "outputs": [],
   "source": [
    "df[(df.Testset == 0) & (df.LabID == 19)]"
   ],
   "metadata": {
    "collapsed": false,
    "pycharm": {
     "name": "#%%\n"
    }
   }
  },
  {
   "cell_type": "code",
   "execution_count": null,
   "outputs": [],
   "source": [
    "labels = range(0, 23)\n",
    "x = np.arange(len(labels))\n",
    "\n",
    "fig, ax = plt.subplots(figsize=(9,2))\n",
    "\n",
    "a_heights, _ = np.histogram(df[df.Testset == 0]['LabID'], bins=23)\n",
    "b_heights, _ = np.histogram(df[df.Testset == 1]['LabID'], bins=23)\n",
    "\n",
    "width = 0.4\n",
    "\n",
    "rects1 = ax.bar(x - width/2, a_heights, width, label='Train/Validation', log=True)\n",
    "rects2 = ax.bar(x + width/2, b_heights, width, label='Test', log=True)\n",
    "\n",
    "ax.set_xticks(x, labels)\n",
    "ax.set_axisbelow(True)\n",
    "ax.yaxis.grid(color='gray', )\n",
    "ax.legend(loc=(1.01,0.65))\n",
    "ax.set_title(\"Laboratory distribution\")\n",
    "fig.tight_layout()\n",
    "\n",
    "plt.show()\n",
    "fig.savefig(\"/home/maddox/data/embryos/images/embryos_lab_proportions.png\", bbox_inches='tight', pad_inches=0)"
   ],
   "metadata": {
    "collapsed": false,
    "pycharm": {
     "name": "#%%\n"
    }
   }
  },
  {
   "cell_type": "markdown",
   "source": [
    "### Label distribution"
   ],
   "metadata": {
    "collapsed": false,
    "pycharm": {
     "name": "#%% md\n"
    }
   }
  },
  {
   "cell_type": "code",
   "execution_count": null,
   "outputs": [],
   "source": [
    "\n",
    "labels = ['No', 'Yes']\n",
    "x = np.arange(len(labels))\n",
    "a_heights, _ = np.histogram(df[df.Testset == 0]['Label'], bins=2, )\n",
    "b_heights, _ = np.histogram(df[df.Testset == 1]['Label'], bins=2)\n",
    "\n",
    "  # the label locations\n",
    "width = 0.35  # the width of the bars\n",
    "\n",
    "fig, ax = plt.subplots()\n",
    "rects1 = ax.bar(x - width/2, a_heights, width, label='Train/Validation')\n",
    "rects2 = ax.bar(x + width/2, b_heights, width, label='Test')\n",
    "\n",
    "# Add some text for labels, title and custom x-axis tick labels, etc.\n",
    "ax.set_ylabel('Frequency')\n",
    "ax.set_title('Bar plot xxx')\n",
    "ax.set_xticks(x, labels)\n",
    "ax.legend()\n",
    "\n",
    "ax.bar_label(rects1, padding=3)\n",
    "ax.bar_label(rects2, padding=3)\n",
    "\n",
    "fig.tight_layout()\n",
    "\n",
    "plt.show()"
   ],
   "metadata": {
    "collapsed": false,
    "pycharm": {
     "name": "#%%\n"
    }
   }
  },
  {
   "cell_type": "code",
   "execution_count": null,
   "outputs": [],
   "source": [
    "fig, (ax1, ax2) = plt.subplots(1, 2, width_ratios=[3, 1], figsize=(7,2))\n",
    "df_prop = pd.DataFrame({'Train/Validation' : [len(df[df.Testset == 0])] ,\n",
    "                   'Test' : [len(df[df.Testset == 1])]})\n",
    "df_prop.plot.bar(stacked=True, ax=ax2, legend=None)\n",
    "\n",
    "for ix, row in df_prop.reset_index(drop=True).iterrows():\n",
    "        cumulative = 0\n",
    "        for element in row:\n",
    "            if element > 0.1:\n",
    "                plt.text(\n",
    "                    ix,\n",
    "                    cumulative + element / 2,\n",
    "                    f\"{round(element/22646 * 100, 2)} %\",\n",
    "                    va=\"center\",\n",
    "                    ha=\"center\",\n",
    "                )\n",
    "                cumulative += element\n",
    "\n",
    "plt.xticks([])\n",
    "plt.yticks([])\n",
    "ax2.set_title(\"Proportions\")\n",
    "\n",
    "#\n",
    "labels = ['No', 'Yes']\n",
    "\n",
    "a_heights, _ = np.histogram(df[df.Testset == 0]['Label'], bins=2, )\n",
    "b_heights, _ = np.histogram(df[df.Testset == 1]['Label'], bins=2)\n",
    "\n",
    "x = np.arange(len(labels))  # the label locations\n",
    "width = 0.3  # the width of the bars\n",
    "\n",
    "rects1 = ax1.bar(x - width/2, a_heights, width, label='Train/Validation')\n",
    "rects2 = ax1.bar(x + width/2, b_heights, width, label='Test')\n",
    "\n",
    "# Add some text for labels, title and custom x-axis tick labels, etc.\n",
    "ax1.set_ylabel('No. samples')\n",
    "ax1.set_xticks(x, labels)\n",
    "\n",
    "ax1.legend([\"Train/Validation\", 'Test'], loc='center', bbox_to_anchor=(1.7,0.85))\n",
    "ax1.set_title(\"Class distribution\")\n",
    "plt.show()\n",
    "fig.savefig(\"/home/maddox/data/embryos/images/embryos_proportions.png\", bbox_inches='tight', pad_inches=0)"
   ],
   "metadata": {
    "collapsed": false,
    "pycharm": {
     "name": "#%%\n"
    }
   }
  },
  {
   "cell_type": "code",
   "execution_count": null,
   "outputs": [],
   "source": [
    "heartbeat = []\n",
    "heartbeat_p = []\n",
    "non = []\n",
    "non_p = []\n",
    "clients = []\n",
    "for i in range(23):\n",
    "    clients.append('{}{}'.format(\"0\" if i < 9 else \"\" ,i+1))\n",
    "    heartbeat.append((df[(df.LabID==i) & (df.Label==1)]).shape[0])\n",
    "    non.append((df[(df.LabID==i) & (df.Label==0)]).shape[0])\n",
    "    total_count = heartbeat[i] + non[i]\n",
    "    heartbeat_p.append((heartbeat[i]/total_count)*100)\n",
    "    non_p.append((non[i]/total_count)*100)\n",
    "\n",
    "clients.append('All')\n",
    "heartbeat.append((df[(df.Label==1)]).shape[0])\n",
    "non.append((df[(df.Label==0)]).shape[0])\n",
    "total_all_count = heartbeat[23] + non[23]\n",
    "heartbeat_p.append((heartbeat[23]/total_all_count)*100)\n",
    "non_p.append((non[23]/total_all_count)*100)\n",
    "\n",
    "fig, ax = plt.subplots()\n",
    "ax.invert_yaxis()\n",
    "\n",
    "heartbeat_bars = ax.barh(\n",
    "    clients,\n",
    "    heartbeat_p,\n",
    "    label = \"Heartbeat\"\n",
    ")\n",
    "\n",
    "non_bars = ax.barh(\n",
    "    clients,\n",
    "    non_p,\n",
    "    label = \"No Heartbeat\",\n",
    "    left=heartbeat_p\n",
    ")\n",
    "\n",
    "ax.bar_label(non_bars, label_type='edge', labels=['%d' % x for x in heartbeat], padding=-340, fontsize=8)\n",
    "ax.bar_label(non_bars, label_type='edge', labels=['%d' % x for x in non], padding=-32, fontsize=8)\n",
    "    \n",
    "ax.set_xlabel('Sample Distribution (%)')\n",
    "ax.set_ylabel('Laboratory')\n",
    "ax.set_title('Embryos Class Distribution')\n",
    "ax.autoscale(enable=True, axis='x', tight=True)\n",
    "ax.legend(loc='center left', bbox_to_anchor=(1, 0.5))\n",
    "plt.show()\n",
    "fig.savefig(\"/home/maddox/data/embryos/images/embryos_class_distribution.png\", bbox_inches='tight', pad_inches=0)"
   ],
   "metadata": {
    "collapsed": false,
    "pycharm": {
     "name": "#%%\n"
    }
   }
  },
  {
   "cell_type": "code",
   "execution_count": null,
   "outputs": [],
   "source": [
    "# Getting meta data\n",
    "samples = []\n",
    "labId = range(23)\n",
    "for id in labId:\n",
    "    samples.append((df[(df.LabID==id) & (df.Testset==0)]).shape[0])\n",
    "\n",
    "#Size sorting labs\n",
    "labId = [x for _,x in sorted(zip(samples,labId), reverse=True)]\n",
    "\n",
    "total_samples = np.sum(samples)\n",
    "included_clients_settings = [5, 10, 15]\n",
    "included_clients = []\n",
    "included_samples = []\n",
    "not_included_samples = []\n",
    "for setting in included_clients_settings:\n",
    "    included_clients.append('{}'.format(setting))\n",
    "    included_samples.append(np.sum(itemgetter(*labId[:setting])(samples)))\n",
    "    not_included_samples.append(total_samples-np.sum(itemgetter(*labId[:setting])(samples)))\n",
    "\n",
    "fig, ax = plt.subplots()\n",
    "ax.invert_yaxis()\n",
    "\n",
    "heartbeat_bars = ax.barh(\n",
    "    included_clients,\n",
    "    included_samples,\n",
    "    label = \"Included\"\n",
    ")\n",
    "\n",
    "non_bars = ax.barh(\n",
    "    included_clients,\n",
    "    not_included_samples,\n",
    "    label = \"Not Included\",\n",
    "    left=included_samples,\n",
    "    color='Gray'\n",
    ")\n",
    "\n",
    "ax.bar_label(non_bars, label_type='edge', labels=[\"%d%%\" % ((x/total_samples)*100) for x in included_samples], padding=-320)\n",
    "    \n",
    "ax.set_xlabel('Training samples')\n",
    "ax.set_ylabel('Amount of Laboratories')\n",
    "ax.set_title('Embryos Trainingset Utilization')\n",
    "ax.autoscale(enable=True, axis='x', tight=True)\n",
    "ax.legend(loc='center left', bbox_to_anchor=(1, 0.5))\n",
    "plt.show()\n",
    "fig.savefig(\"/home/maddox/data/embryos/images/embryos_training_set_utilization.png\", bbox_inches='tight', pad_inches=0)"
   ],
   "metadata": {
    "collapsed": false,
    "pycharm": {
     "name": "#%%\n"
    }
   }
  },
  {
   "cell_type": "code",
   "execution_count": null,
   "outputs": [],
   "source": [
    "# Getting meta data\n",
    "samples = []\n",
    "labId = range(23)\n",
    "for id in labId:\n",
    "    samples.append((df[(df.LabID==id) & (df.Testset==0)]).shape[0])\n",
    "\n",
    "#Size sorting labs\n",
    "labId = [x for _,x in sorted(zip(samples,labId), reverse=True)]\n",
    "\n",
    "total_samples = np.sum(samples)\n",
    "included_clients_settings = [5, 10, 15]\n",
    "included_clients = []\n",
    "included_samples = []\n",
    "not_included_samples = []\n",
    "for setting in included_clients_settings:\n",
    "    included_clients.append('{}'.format(setting))\n",
    "    included_samples.append(np.sum(itemgetter(*labId[:setting])(samples)))\n",
    "    not_included_samples.append(total_samples-np.sum(itemgetter(*labId[:setting])(samples)))\n",
    "\n",
    "fig, ax = plt.subplots()\n",
    "ax.invert_yaxis()\n",
    "\n",
    "heartbeat_bars = ax.barh(\n",
    "    included_clients,\n",
    "    included_samples,\n",
    "    label = \"Included\"\n",
    ")\n",
    "\n",
    "non_bars = ax.barh(\n",
    "    included_clients,\n",
    "    not_included_samples,\n",
    "    label = \"Not Included\",\n",
    "    left=included_samples,\n",
    "    color='Gray'\n",
    ")\n",
    "\n",
    "ax.bar_label(non_bars, label_type='edge', labels=[\"%d%%\" % ((x/total_samples)*100) for x in included_samples], padding=-320)\n",
    "    \n",
    "ax.set_xlabel('Training samples')\n",
    "ax.set_ylabel('Amount of Laboratories')\n",
    "ax.set_title('Embryos Trainingset Utilization')\n",
    "ax.autoscale(enable=True, axis='x', tight=True)\n",
    "ax.legend(loc='center left', bbox_to_anchor=(1, 0.5))\n",
    "plt.show()\n",
    "fig.savefig(\"/home/maddox/data/embryos/images/embryos_training_set_utilization.png\", bbox_inches='tight', pad_inches=0)"
   ],
   "metadata": {
    "collapsed": false,
    "pycharm": {
     "name": "#%%\n"
    }
   }
  },
  {
   "cell_type": "code",
   "execution_count": 50,
   "metadata": {},
   "outputs": [
    {
     "data": {
      "image/png": "[encoded data removed]",
      "text/plain": [
       "<Figure size 640x480 with 1 Axes>"
      ]
     },
     "metadata": {},
     "output_type": "display_data"
    }
   ],
   "source": [
    "# Getting meta data\n",
    "samples = []\n",
    "labId = range(23)\n",
    "for id in labId:\n",
    "    samples.append((df[(df.LabID==id) & (df.Testset==0)]).shape[0])\n",
    "\n",
    "#Size sorting labs\n",
    "labId = [x for _,x in sorted(zip(samples,labId), reverse=True)]\n",
    "\n",
    "total_samples = np.sum(samples)\n",
    "included_clients_settings = [5, 10, 15]\n",
    "included_clients = []\n",
    "included_samples = []\n",
    "not_included_samples = []\n",
    "for setting in included_clients_settings:\n",
    "    included_clients.append('{}'.format(setting))\n",
    "    included_samples.append(np.sum(itemgetter(*labId[:setting])(samples)))\n",
    "    not_included_samples.append(total_samples-np.sum(itemgetter(*labId[:setting])(samples)))\n",
    "\n",
    "fig, ax = plt.subplots()\n",
    "ax.invert_yaxis()\n",
    "\n",
    "heartbeat_bars = ax.barh(\n",
    "    included_clients,\n",
    "    included_samples,\n",
    "    label = \"Included\"\n",
    ")\n",
    "\n",
    "non_bars = ax.barh(\n",
    "    included_clients,\n",
    "    not_included_samples,\n",
    "    label = \"Not Included\",\n",
    "    left=included_samples,\n",
    "    color='Gray'\n",
    ")\n",
    "\n",
    "ax.bar_label(non_bars, label_type='edge', labels=[\"%d%%\" % ((x/total_samples)*100) for x in included_samples], padding=-320)\n",
    "    \n",
    "ax.set_xlabel('Training samples')\n",
    "ax.set_ylabel('Amount of Laboratories')\n",
    "ax.set_title('Embryos Trainingset Utilization')\n",
    "ax.autoscale(enable=True, axis='x', tight=True)\n",
    "ax.legend(loc='center left', bbox_to_anchor=(1, 0.5))\n",
    "plt.show()\n",
    "fig.savefig(\"/home/maddox/data/embryos/images/embryos_training_set_utilization.png\", bbox_inches='tight', pad_inches=0)"
   ]
  }
 ],
 "metadata": {
  "kernelspec": {
   "display_name": "Python 3.8.10 ('venv': venv)",
   "language": "python",
   "name": "python3"
  },
  "language_info": {
   "codemirror_mode": {
    "name": "ipython",
    "version": 3
   },
   "file_extension": ".py",
   "mimetype": "text/x-python",
   "name": "python",
   "nbconvert_exporter": "python",
   "pygments_lexer": "ipython3",
   "version": "3.8.10 (default, Nov 14 2022, 12:59:47) \n[GCC 9.4.0]"
  },
  "vscode": {
   "interpreter": {
    "hash": "f1832c2e6f92a6280e95700d29e59ccd94d5499adbba882f2291b72fc5bb7cbf"
   }
  }
 },
 "nbformat": 4,
 "nbformat_minor": 0
}