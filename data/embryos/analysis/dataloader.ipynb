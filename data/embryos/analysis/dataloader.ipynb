{
 "cells": [
  {
   "cell_type": "markdown",
   "metadata": {
    "collapsed": false,
    "pycharm": {
     "name": "#%% md\n"
    }
   },
   "source": [
    "# Imports"
   ]
  },
  {
   "cell_type": "code",
   "execution_count": 1,
   "metadata": {
    "collapsed": true,
    "pycharm": {
     "name": "#%%\n"
    }
   },
   "outputs": [],
   "source": [
    "import os\n",
    "from enum import Enum\n",
    "from typing import Callable, Tuple, Any, Optional\n",
    "\n",
    "import numpy\n",
    "import numpy as np\n",
    "import pandas as pd\n",
    "\n",
    "from PIL import Image as Image\n",
    "\n",
    "from sklearn.model_selection import train_test_split\n",
    "\n",
    "def load_embryos_image(path, focal, frame, width, height):\n",
    "        file_data = np.load(path)\n",
    "        images = file_data['images']\n",
    "\n",
    "        focal = focal\n",
    "        frame = frame\n",
    "        img_raw = images[frame, :, :, focal]\n",
    "        img = Image.fromarray(img_raw)\n",
    "        img = resize_image(img, width, height)\n",
    "        return img\n",
    "\n",
    "def resize_image(image, width, height):\n",
    "        newSize = (width, height)\n",
    "        img = image.resize(newSize)\n",
    "        return img\n",
    "\n",
    "def normalize_image(image):\n",
    "        img_raw = np.asarray(image)\n",
    "        img_raw = img_raw.astype('float32') / 255\n",
    "        return img_raw"
   ]
  },
  {
   "cell_type": "markdown",
   "metadata": {
    "collapsed": false,
    "pycharm": {
     "name": "#%% md\n"
    }
   },
   "source": [
    "# Configs"
   ]
  },
  {
   "cell_type": "code",
   "execution_count": 2,
   "metadata": {
    "collapsed": false,
    "pycharm": {
     "name": "#%%\n"
    }
   },
   "outputs": [],
   "source": [
    "data_root = '/mnt/data/mlr_ahj_datasets/vitrolife/dataset/'\n",
    "metadata_file_path = os.path.join(data_root, \"metadata.csv\")"
   ]
  },
  {
   "cell_type": "markdown",
   "metadata": {
    "collapsed": false,
    "pycharm": {
     "name": "#%% md\n"
    }
   },
   "source": [
    "# Load"
   ]
  },
  {
   "cell_type": "code",
   "execution_count": null,
   "outputs": [],
   "source": [
    "df = pd.read_csv(metadata_file_path, index_col='SampleID')\n",
    "df.info()"
   ],
   "metadata": {
    "collapsed": false,
    "pycharm": {
     "name": "#%%\n"
    }
   }
  },
  {
   "cell_type": "code",
   "execution_count": null,
   "outputs": [],
   "source": [
    "df_train_validation = df.loc[df['Testset'] == 0]\n",
    "df_train_validation.loc[df['Label'] == 1].info()\n"
   ],
   "metadata": {
    "collapsed": false,
    "pycharm": {
     "name": "#%%\n"
    }
   }
  },
  {
   "cell_type": "code",
   "execution_count": null,
   "outputs": [],
   "source": [
    "df_test_validation = df.loc[df['Testset'] == 1]\n",
    "df_test_validation.info()\n"
   ],
   "metadata": {
    "collapsed": false,
    "pycharm": {
     "name": "#%%\n"
    }
   }
  },
  {
   "cell_type": "code",
   "execution_count": null,
   "outputs": [],
   "source": [
    "df_train, df_val = train_test_split(df_train_validation, test_size=0.172, random_state=42)\n",
    "df_train.info()"
   ],
   "metadata": {
    "collapsed": false,
    "pycharm": {
     "name": "#%%\n"
    }
   }
  },
  {
   "cell_type": "code",
   "execution_count": null,
   "outputs": [],
   "source": [
    "df_train.loc[df['Label'] == 1].info()"
   ],
   "metadata": {
    "collapsed": false,
    "pycharm": {
     "name": "#%%\n"
    }
   }
  },
  {
   "cell_type": "code",
   "execution_count": null,
   "outputs": [],
   "source": [
    "df_train_validation = df.loc[df['Testset'] == 0]\n",
    "df_train_validation.loc[df['Label'] == 1].info()\n"
   ],
   "metadata": {
    "collapsed": false,
    "pycharm": {
     "name": "#%%\n"
    }
   }
  },
  {
   "cell_type": "code",
   "execution_count": null,
   "outputs": [],
   "source": [
    "df_test_validation = df.loc[df['Testset'] == 1]\n",
    "df_test_validation.info()\n"
   ],
   "metadata": {
    "collapsed": false,
    "pycharm": {
     "name": "#%%\n"
    }
   }
  },
  {
   "cell_type": "code",
   "execution_count": null,
   "outputs": [],
   "source": [
    "df_train, df_val = train_test_split(df_train_validation, test_size=0.172, random_state=42)\n",
    "df_train.info()"
   ],
   "metadata": {
    "collapsed": false,
    "pycharm": {
     "name": "#%%\n"
    }
   }
  },
  {
   "cell_type": "code",
   "execution_count": null,
   "outputs": [],
   "source": [
    "df_train.loc[df['Label'] == 1].info()"
   ],
   "metadata": {
    "collapsed": false,
    "pycharm": {
     "name": "#%%\n"
    }
   }
  },
  {
   "cell_type": "code",
   "execution_count": null,
   "outputs": [],
   "source": [],
   "metadata": {
    "collapsed": false,
    "pycharm": {
     "name": "#%%\n"
    }
   }
  },
  {
   "cell_type": "code",
   "execution_count": 30,
   "metadata": {},
   "outputs": [
    {
     "name": "stdout",
     "output_type": "stream",
     "text": [
      "<class 'pandas.core.frame.DataFrame'>\n",
      "Int64Index: 3326 entries, 8 to 22686\n",
      "Data columns (total 4 columns):\n",
      " #   Column   Non-Null Count  Dtype \n",
      "---  ------   --------------  ----- \n",
      " 0   LabID    3326 non-null   int64 \n",
      " 1   Label    3326 non-null   int64 \n",
      " 2   Device   3326 non-null   object\n",
      " 3   Testset  3326 non-null   int64 \n",
      "dtypes: int64(3), object(1)\n",
      "memory usage: 129.9+ KB\n"
     ]
    }
   ],
   "source": [
    "df_test_validation = df.loc[df['Testset'] == 1]\n",
    "df_test_validation.info()\n"
   ]
  },
  {
   "cell_type": "code",
   "execution_count": 28,
   "metadata": {},
   "outputs": [
    {
     "name": "stdout",
     "output_type": "stream",
     "text": [
      "<class 'pandas.core.frame.DataFrame'>\n",
      "Int64Index: 15996 entries, 2282 to 18571\n",
      "Data columns (total 4 columns):\n",
      " #   Column   Non-Null Count  Dtype \n",
      "---  ------   --------------  ----- \n",
      " 0   LabID    15996 non-null  int64 \n",
      " 1   Label    15996 non-null  int64 \n",
      " 2   Device   15996 non-null  object\n",
      " 3   Testset  15996 non-null  int64 \n",
      "dtypes: int64(3), object(1)\n",
      "memory usage: 624.8+ KB\n"
     ]
    }
   ],
   "source": [
    "df_train, df_val = train_test_split(df_train_validation, test_size=0.172, random_state=42)\n",
    "df_train.info()"
   ]
  },
  {
   "cell_type": "code",
   "execution_count": 38,
   "metadata": {},
   "outputs": [
    {
     "name": "stdout",
     "output_type": "stream",
     "text": [
      "<class 'pandas.core.frame.DataFrame'>\n",
      "Int64Index: 5082 entries, 4362 to 1020\n",
      "Data columns (total 4 columns):\n",
      " #   Column   Non-Null Count  Dtype \n",
      "---  ------   --------------  ----- \n",
      " 0   LabID    5082 non-null   int64 \n",
      " 1   Label    5082 non-null   int64 \n",
      " 2   Device   5082 non-null   object\n",
      " 3   Testset  5082 non-null   int64 \n",
      "dtypes: int64(3), object(1)\n",
      "memory usage: 198.5+ KB\n"
     ]
    }
   ],
   "source": [
    "df_train.loc[df['Label'] == 1].info()"
   ]
  },
  {
   "cell_type": "code",
   "execution_count": null,
   "metadata": {},
   "outputs": [],
   "source": []
  }
 ],
 "metadata": {
  "kernelspec": {
   "display_name": "Python 3.8.10 ('venv': venv)",
   "language": "python",
   "name": "python3"
  },
  "language_info": {
   "codemirror_mode": {
    "name": "ipython",
    "version": 3
   },
   "file_extension": ".py",
   "mimetype": "text/x-python",
   "name": "python",
   "nbconvert_exporter": "python",
   "pygments_lexer": "ipython3",
   "version": "3.8.10"
  },
  "vscode": {
   "interpreter": {
    "hash": "f1832c2e6f92a6280e95700d29e59ccd94d5499adbba882f2291b72fc5bb7cbf"
   }
  }
 },
 "nbformat": 4,
 "nbformat_minor": 0
}